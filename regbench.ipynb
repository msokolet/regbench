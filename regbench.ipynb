{
 "cells": [
  {
   "attachments": {},
   "cell_type": "markdown",
   "id": "cultural-choice",
   "metadata": {},
   "source": [
    "# Tutorial for regression benchmarking"
   ]
  },
  {
   "attachments": {},
   "cell_type": "markdown",
   "id": "protecting-mileage",
   "metadata": {},
   "source": [
    "This code loads data and a design matrix, then benchmarks methods of ridge regression in terms of accuracy and speed, both for estimating the alpha(s) and for performing the cross-validated prediction.\n",
    "\n",
    "Written by Michael Sokoletsky, 2023.\n"
   ]
  },
  {
   "attachments": {},
   "cell_type": "markdown",
   "id": "f64e517d",
   "metadata": {},
   "source": [
    "### Imports and options"
   ]
  },
  {
   "cell_type": "code",
   "execution_count": 36,
   "id": "diverse-lincoln",
   "metadata": {},
   "outputs": [],
   "source": [
    "import time\n",
    "import itertools \n",
    "\n",
    "import numpy as np\n",
    "import pandas as pd\n",
    "import seaborn as sns\n",
    "from matplotlib import pyplot as plt\n",
    "from sklearn.linear_model import Ridge, RidgeCV, LinearRegression\n",
    "from sklearn.model_selection import GridSearchCV, cross_val_predict\n",
    "from sklearn.metrics import make_scorer\n",
    "from scipy.optimize import fminbound\n",
    "from tqdm import tqdm\n",
    "\n",
    "import regbench as rb\n",
    "\n",
    "opts = {} # Intialize options dictionary\n",
    "# Recording options\n",
    "opts['dir'] = 'D:\\Churchland\\Widefield' # Path to directory in which the recording file is located\n",
    "opts['rec_name'] = 'mSM63_09-Aug-2018' # Recording name\n",
    "opts['frames_per_trial'] = 75 # Num of frames per trial\n",
    "opts['dformat'] = 'MATLAB'\n",
    "# Refression benchmarking options\n",
    "opts['out_folds'] = 10 # Num of folds for outer (test) cross-validation\n",
    "opts['in_folds'] = 5 # Num of folds for inner (train) cross-validation\n",
    "opts['alpha_mets'] = ['Karabastos', 'RidgeCV', 'GridSearchCV', 'fminbound', 'None'] # Alpha estimation methods to test\n",
    "opts['crossval_mets'] = ['Kaufman', 'Ridge', 'cross_val_predict'] # Cross-validation methods to test\n",
    "opts['recenter'] = True # Whether to recenter the variables (no intercept) or not (fit intercept term) for all methods\n",
    "opts['test_range'] =  np.concatenate([np.arange(1, 2000, 500),\n",
    "                                      np.arange(3000, 13000,2000),\n",
    "                                      np.arange(15000, 30000, 5000)]) # Range to test in cross-validated alpha estimation methods\n",
    "opts['n_jobs'] = -1 # Num of concurrently running workers in cross-validated alpha estimation methods. -1 uses the full CPU capacity.\n",
    "opts['xtol'] = 100 # Convergence tolerance for the fminbound alpha estimation method\n",
    "opts['map_met'] = 'r2' # Method of mapping scores. Choices: 'r2', 'R2'\n",
    "opts['sample_trials'] = 50# Number of trials to randomally sample for R2 map calculation. -1 uses all of them."
   ]
  },
  {
   "attachments": {},
   "cell_type": "markdown",
   "id": "745bce28",
   "metadata": {},
   "source": [
    "### Load data and design matrix"
   ]
  },
  {
   "cell_type": "code",
   "execution_count": 37,
   "id": "behind-insured",
   "metadata": {},
   "outputs": [],
   "source": [
    "data = rb.load_data(opts) # Load widefield data\n",
    "design = rb.load_design(opts) # Load design DataFrame\n",
    "if opts['recenter']:\n",
    "    design_norm = (design-design.mean())/design.std() # Normalize design DataFrrame\n",
    "else:\n",
    "    design_norm = design/design.std() # Normalize design DataFrrame\n",
    "out_split, in_split = rb.split_by_trials(data, opts) # Split data into outer and inner folds by trials\n",
    "calc_score = rb.mint_calc_score(data) # Mint a custom score function weighted by component loadings\n",
    "scorer = make_scorer(calc_score) # Create a scorer based on this scoring function"
   ]
  },
  {
   "attachments": {},
   "cell_type": "markdown",
   "id": "7afcc7f1",
   "metadata": {},
   "source": [
    "### Benchmark methods of estimating alphas"
   ]
  },
  {
   "cell_type": "code",
   "execution_count": 43,
   "id": "4609ac84",
   "metadata": {},
   "outputs": [
    {
     "name": "stderr",
     "output_type": "stream",
     "text": [
      "Alpha method num:   0%|          | 0/5 [00:00<?, ?it/s]c:\\Users\\michaeso.WISMAIN\\OneDrive - weizmann.ac.il\\Research\\Analysis 2.0\\regbench-main\\regbench\\ridge.py:343: RuntimeWarning: divide by zero encountered in log\n",
      "  def  mint_NLL_func(q, d2, n, Y_var, alpha2):\n",
      "Alpha method num: 100%|██████████| 5/5 [01:20<00:00, 16.01s/it]\n"
     ]
    }
   ],
   "source": [
    "alphas = {}\n",
    "alpha_times = {}\n",
    "train_idx, _ = out_split[0]\n",
    "for alpha_method in tqdm(opts['alpha_mets'], desc='Alpha method num'):\n",
    "    st = time.time()\n",
    "    if alpha_method == 'Karabastos':\n",
    "        alphas[alpha_method] = rb.ridge_MML(data.svt[train_idx, :], design_norm.loc[train_idx], regress=False)\n",
    "    elif alpha_method == 'GridSearchCV':\n",
    "        mdl = GridSearchCV(Ridge(), {'alpha': opts['test_range']}, cv=in_split, scoring=scorer, n_jobs=opts['n_jobs'], refit=False)\n",
    "        mdl.fit(design_norm.loc[train_idx], data.svt[train_idx, :])\n",
    "        alphas[alpha_method] = mdl.best_params_['alpha']\n",
    "    elif alpha_method == 'RidgeCV':\n",
    "        mdl = RidgeCV(alphas=opts['test_range'], scoring='r2', alpha_per_target=True)\n",
    "        mdl.fit(design_norm.loc[train_idx], data.svt[train_idx, :])\n",
    "        alphas[alpha_method] = mdl.alpha_\n",
    "    elif alpha_method == 'fminbound':\n",
    "        score_func = rb.mint_score_func(design_norm.loc[train_idx], data.svt[train_idx, :], cv=in_split,scoring=scorer, n_jobs=opts['n_jobs'])\n",
    "        alphas[alpha_method] = fminbound(score_func, opts['test_range'][0], opts['test_range'][-1], xtol=opts['xtol'])\n",
    "    elif alpha_method == 'None':\n",
    "        alphas[alpha_method] = 0\n",
    "    alpha_times[alpha_method] = time.time() - st"
   ]
  },
  {
   "cell_type": "markdown",
   "id": "21b05571",
   "metadata": {},
   "source": [
    "### Benchmark methods of cross-validation"
   ]
  },
  {
   "cell_type": "code",
   "execution_count": 44,
   "id": "1751a159",
   "metadata": {},
   "outputs": [
    {
     "name": "stderr",
     "output_type": "stream",
     "text": [
      "Testing alphas for Kaufman method: 100%|██████████| 5/5 [09:54<00:00, 118.95s/it]\n",
      "Testing alphas for Ridge method: 100%|██████████| 5/5 [06:23<00:00, 76.64s/it] \n",
      "Testing alphas for cross_val_predict method: 100%|██████████| 5/5 [02:42<00:00, 32.49s/it]\n"
     ]
    }
   ],
   "source": [
    "preds = {(opt1, opt2): np.zeros_like(data.svt) for opt1, opt2 in itertools.product(opts['crossval_mets'], opts['alpha_mets'])}\n",
    "scores = {}\n",
    "pred_times = {}\n",
    "for crossval_method in opts['crossval_mets']:\n",
    "    for alpha_method in tqdm(opts['alpha_mets'], desc=f'Testing alphas for {crossval_method} method'):\n",
    "        st = time.time()\n",
    "        if crossval_method == 'Kaufman':\n",
    "            for (train_idx, test_idx) in out_split:\n",
    "                c_beta = rb.ridge_MML(data.svt[train_idx, :], design_norm.loc[train_idx], L=alphas[alpha_method],\n",
    "                                    recenter=opts['recenter'])\n",
    "                if opts['recenter'] == False:\n",
    "                    preds[crossval_method, alpha_method][test_idx, :] = c_beta[0, :] + design_norm.loc[test_idx] @ c_beta[1:, :]\n",
    "                else:\n",
    "                    preds[crossval_method, alpha_method][test_idx, :] = design_norm.loc[test_idx] @ c_beta\n",
    "        elif crossval_method == 'Ridge':\n",
    "            mdl = Ridge(alpha=alphas[alpha_method], fit_intercept=(not opts['recenter']))\n",
    "            for (train_idx, test_idx) in out_split:\n",
    "                mdl.fit(design_norm.loc[train_idx], data.svt[train_idx, :])\n",
    "                preds[crossval_method, alpha_method][test_idx, :] = mdl.predict(design_norm.loc[test_idx])\n",
    "        elif crossval_method == 'cross_val_predict':\n",
    "            mdl = Ridge(alpha=alphas[alpha_method], fit_intercept=(not opts['recenter']))\n",
    "            preds[crossval_method, alpha_method] = cross_val_predict(mdl, design_norm, data.svt, cv=out_split, n_jobs=opts['n_jobs'])\n",
    "        scores[crossval_method, alpha_method] = calc_score(data.svt, preds[crossval_method, alpha_method])\n",
    "        pred_times[crossval_method, alpha_method] = time.time() - st + alpha_times[alpha_method]\n",
    "\n",
    "rb.save_results({'alphas': alphas,\n",
    "                 'preds': preds,\n",
    "                 'scores': scores,\n",
    "                 'alpha_times': alpha_times,\n",
    "                 'pred_times': pred_times}, opts)  # Save results"
   ]
  },
  {
   "attachments": {},
   "cell_type": "markdown",
   "id": "3f6bea7c",
   "metadata": {},
   "source": [
    "### Benchmarking summary plots"
   ]
  },
  {
   "cell_type": "code",
   "execution_count": 45,
   "id": "20b21ff5",
   "metadata": {},
   "outputs": [
    {
     "data": {
      "image/png": "[encoded data removed]",
      "text/plain": [
       "<Figure size 1224x324 with 6 Axes>"
      ]
     },
     "metadata": {
      "needs_background": "light"
     },
     "output_type": "display_data"
    }
   ],
   "source": [
    "alphas, preds, scores, alpha_times, pred_times = rb.load_results(['alphas', 'preds', 'scores', 'alpha_times', 'pred_times'], opts)  # Load results - useful if loading already analyzed sessions\n",
    "\n",
    "sum_fig, sum_ax = plt.subplots(ncols=3, gridspec_kw={'width_ratios': [3, 3, 1]}, figsize=(17,4.5))\n",
    "plt.suptitle(f'Results - {opts[\"rec_name\"] }')\n",
    "\n",
    "scores_df = rb.unstack(pd.Series(scores))\n",
    "scores_plot = sns.heatmap(scores_df, annot=True, fmt='.4f', cmap=\"coolwarm\", linewidth=.5, ax=sum_ax[0])\n",
    "scores_plot.set(title='Weighted R2 scores', xlabel='Crossval method', ylabel='Alpha method')\n",
    "\n",
    "times_df = rb.unstack(pd.Series(pred_times))\n",
    "times_plot = sns.heatmap(times_df, annot=True, fmt='.1f', cmap=\"coolwarm\", linewidth=.5, ax=sum_ax[1])\n",
    "times_plot.set(title='Full times (s)', xlabel='Crossval method', ylabel='Alpha method')\n",
    "\n",
    "alpha_times_df = pd.Series(alpha_times).to_frame();\n",
    "alpha_times_plot = sns.heatmap(alpha_times_df, annot=True, fmt='.1f', cmap=\"coolwarm\", linewidth=.5, ax=sum_ax[2], xticklabels=False)\n",
    "alpha_times_plot.set(title='Alpha times (s)', ylabel='Alpha method');\n",
    "\n",
    "plt.subplots_adjust(bottom=0.2, wspace=0.5)\n",
    "rb.save_fig(sum_fig, opts, name=f'rb_results_{opts[\"rec_name\"]}') # Save plot"
   ]
  },
  {
   "attachments": {},
   "cell_type": "markdown",
   "id": "70c468f3",
   "metadata": {},
   "source": [
    "### Compute score maps"
   ]
  },
  {
   "cell_type": "code",
   "execution_count": 41,
   "id": "fd26daa3",
   "metadata": {},
   "outputs": [
    {
     "name": "stderr",
     "output_type": "stream",
     "text": [
      "Computing maps for Kaufman method: 100%|██████████| 5/5 [00:04<00:00,  1.03it/s]\n",
      "Computing maps for Ridge method: 100%|██████████| 5/5 [00:05<00:00,  1.00s/it]\n",
      "Computing maps for cross_val_predict method: 100%|██████████| 5/5 [00:04<00:00,  1.01it/s]\n"
     ]
    }
   ],
   "source": [
    "maps = {}\n",
    "rng = np.random.default_rng(seed=4)\n",
    "trial_idx = rng.permutation(int(len(data) / opts['frames_per_trial']))\n",
    "frame_idx = np.arange(len(data))\n",
    "frame_idx = frame_idx.reshape(-1, opts['frames_per_trial'])\n",
    "trials = trial_idx[:opts['sample_trials']]\n",
    "frame_idx = frame_idx[trials, :].flatten()\n",
    "\n",
    "for crossval_method in opts['crossval_mets']:\n",
    "    for alpha_method in tqdm(opts['alpha_mets'], desc=f'Computing maps for {crossval_method} method'):\n",
    "        maps[crossval_method, alpha_method] = rb.model_corr(data, preds[crossval_method, alpha_method], opts, frame_idx)"
   ]
  },
  {
   "attachments": {},
   "cell_type": "markdown",
   "id": "4bd78371",
   "metadata": {},
   "source": [
    "### Plot score maps"
   ]
  },
  {
   "cell_type": "code",
   "execution_count": 42,
   "id": "d569f0e0",
   "metadata": {},
   "outputs": [
    {
     "ename": "AttributeError",
     "evalue": "'numpy.ndarray' object has no attribute 'imshow'",
     "output_type": "error",
     "traceback": [
      "\u001b[1;31m---------------------------------------------------------------------------\u001b[0m",
      "\u001b[1;31mAttributeError\u001b[0m                            Traceback (most recent call last)",
      "\u001b[1;32mc:\\Users\\michaeso.WISMAIN\\OneDrive - weizmann.ac.il\\Research\\Analysis 2.0\\regbench-main\\regbench.ipynb Cell 16\u001b[0m in \u001b[0;36m<cell line: 11>\u001b[1;34m()\u001b[0m\n\u001b[0;32m     <a href='vscode-notebook-cell:/c%3A/Users/michaeso.WISMAIN/OneDrive%20-%20weizmann.ac.il/Research/Analysis%202.0/regbench-main/regbench.ipynb#X21sZmlsZQ%3D%3D?line=10'>11</a>\u001b[0m \u001b[39mfor\u001b[39;00m nx, crossval_method \u001b[39min\u001b[39;00m \u001b[39menumerate\u001b[39m(opts[\u001b[39m'\u001b[39m\u001b[39mcrossval_mets\u001b[39m\u001b[39m'\u001b[39m]):\n\u001b[0;32m     <a href='vscode-notebook-cell:/c%3A/Users/michaeso.WISMAIN/OneDrive%20-%20weizmann.ac.il/Research/Analysis%202.0/regbench-main/regbench.ipynb#X21sZmlsZQ%3D%3D?line=11'>12</a>\u001b[0m     \u001b[39mfor\u001b[39;00m ny, alpha_method \u001b[39min\u001b[39;00m \u001b[39menumerate\u001b[39m(opts[\u001b[39m'\u001b[39m\u001b[39malpha_mets\u001b[39m\u001b[39m'\u001b[39m]):\n\u001b[1;32m---> <a href='vscode-notebook-cell:/c%3A/Users/michaeso.WISMAIN/OneDrive%20-%20weizmann.ac.il/Research/Analysis%202.0/regbench-main/regbench.ipynb#X21sZmlsZQ%3D%3D?line=12'>13</a>\u001b[0m         plots[ny, nx] \u001b[39m=\u001b[39m score_ax[ny]\u001b[39m.\u001b[39;49mimshow(maps[crossval_method, alpha_method], cmap\u001b[39m=\u001b[39m\u001b[39m'\u001b[39m\u001b[39minferno\u001b[39m\u001b[39m'\u001b[39m, vmin\u001b[39m=\u001b[39m\u001b[39m0\u001b[39m, vmax\u001b[39m=\u001b[39m\u001b[39m0.9\u001b[39m)\n\u001b[0;32m     <a href='vscode-notebook-cell:/c%3A/Users/michaeso.WISMAIN/OneDrive%20-%20weizmann.ac.il/Research/Analysis%202.0/regbench-main/regbench.ipynb#X21sZmlsZQ%3D%3D?line=13'>14</a>\u001b[0m         score_ax[ny, nx]\u001b[39m.\u001b[39mset_xlabel(\u001b[39mf\u001b[39m\u001b[39m'\u001b[39m\u001b[39m{\u001b[39;00mnp\u001b[39m.\u001b[39mnanmean(maps[crossval_method, alpha_method])\u001b[39m:\u001b[39;00m\u001b[39m.4f\u001b[39m\u001b[39m}\u001b[39;00m\u001b[39m'\u001b[39m)\n\u001b[0;32m     <a href='vscode-notebook-cell:/c%3A/Users/michaeso.WISMAIN/OneDrive%20-%20weizmann.ac.il/Research/Analysis%202.0/regbench-main/regbench.ipynb#X21sZmlsZQ%3D%3D?line=14'>15</a>\u001b[0m         \u001b[39mif\u001b[39;00m ny \u001b[39m==\u001b[39m \u001b[39m0\u001b[39m: score_ax[ny]\u001b[39m.\u001b[39mset_title(crossval_method)\n",
      "\u001b[1;31mAttributeError\u001b[0m: 'numpy.ndarray' object has no attribute 'imshow'"
     ]
    },
    {
     "data": {
      "image/png": "[encoded data removed]",
      "text/plain": [
       "<Figure size 504x432 with 15 Axes>"
      ]
     },
     "metadata": {},
     "output_type": "display_data"
    }
   ],
   "source": [
    "score_fig, score_ax = plt.subplots(len(opts['alpha_mets']), len(opts['crossval_mets']), figsize=(7, 6))\n",
    "plt.suptitle(f'Score maps, session {opts[\"rec_name\"]}, {opts[\"map_met\"]} method')\n",
    "\n",
    "\n",
    "[axi.grid(False) for axi in score_ax.ravel()]\n",
    "[axi.spines[['bottom', 'left', 'right', 'top']].set_visible(False) for axi in score_ax.ravel()]\n",
    "[axi.set_xticks([]) for axi in score_ax.ravel()]\n",
    "[axi.set_yticks([]) for axi in score_ax.ravel()]\n",
    "\n",
    "plots = {}\n",
    "for nx, crossval_method in enumerate(opts['crossval_mets']):\n",
    "    for ny, alpha_method in enumerate(opts['alpha_mets']):\n",
    "        plots[ny, nx] = score_ax[ny].imshow(maps[crossval_method, alpha_method], cmap='inferno', vmin=0, vmax=0.9)\n",
    "        score_ax[ny, nx].set_xlabel(f'{np.nanmean(maps[crossval_method, alpha_method]):.4f}')\n",
    "        if ny == 0: score_ax[ny].set_title(crossval_method)\n",
    "        if nx == 0: \n",
    "            score_ax[ny, nx].set_ylabel(alpha_method)\n",
    "\n",
    "score_fig.subplots_adjust(left=0.2, right=0.8, hspace=0.5)\n",
    "cbar_ax = score_fig.add_axes([0.85, 0.15, 0.03, 0.7])\n",
    "cbar = score_fig.colorbar(plots[0, 0], cax=cbar_ax, orientation='vertical')\n",
    "cbar_ax.set_title(opts[\"map_met\"]);\n",
    "\n",
    "rb.save_fig(score_fig, opts, name=f'rb_corrs_{opts[\"rec_name\"]}_{opts[\"map_met\"]}') # Save plot"
   ]
  }
 ],
 "metadata": {
  "kernelspec": {
   "display_name": "p310",
   "language": "python",
   "name": "python3"
  },
  "language_info": {
   "codemirror_mode": {
    "name": "ipython",
    "version": 3
   },
   "file_extension": ".py",
   "mimetype": "text/x-python",
   "name": "python",
   "nbconvert_exporter": "python",
   "pygments_lexer": "ipython3",
   "version": "3.9.12"
  },
  "vscode": {
   "interpreter": {
    "hash": "b210afbeffbfc93b3fbe77b94d59dc4c3b4b9f0b54d3057b5478bb2266d233aa"
   }
  }
 },
 "nbformat": 4,
 "nbformat_minor": 5
}
